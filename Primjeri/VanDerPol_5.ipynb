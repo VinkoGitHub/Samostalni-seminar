{
 "cells": [
  {
   "attachments": {},
   "cell_type": "markdown",
   "id": "387a4377",
   "metadata": {},
   "source": [
    "# PDE-FIND za Van der Polov oscilator\n",
    "\n",
    "Vinko Dragušica, 2022.\n",
    "\n",
    "Predstavljen je kod koji pomoću modula PDE-FIND iz danih podataka otkriva jednadžbu koja opisuje dinamiku Van der Polovog oscilatora za $\\mu=5$.\n",
    "$$\n",
    "u_{tt} - \\mu(1-u^2)u_t + u = 0\n",
    "$$"
   ]
  },
  {
   "cell_type": "code",
   "execution_count": 1,
   "id": "8ca55ba3",
   "metadata": {},
   "outputs": [],
   "source": [
    "%matplotlib inline\n",
    "import numpy as np\n",
    "from scipy.integrate import odeint\n",
    "import matplotlib.pyplot as plt\n",
    "import sys; sys.path.append('../')\n",
    "from PDE_FIND_CM import *"
   ]
  },
  {
   "cell_type": "code",
   "execution_count": 2,
   "id": "740c31ea",
   "metadata": {},
   "outputs": [],
   "source": [
    "# u funkciju ubacujemo varijable i ona izbacuje derivacije tih varijabli\n",
    "def model(z,t,mu=5):\n",
    "    x = z[0]\n",
    "    dx = z[1]\n",
    "    ddx = mu*(1-x**2)*dx - x\n",
    "    dzdt = [dx,ddx]\n",
    "    return dzdt\n",
    "\n",
    "# početni uvjet (z0 = [x(t=0), dx/dt(t=0)])\n",
    "z0 = [0,-5]\n",
    "\n",
    "# prostorne i vremenske točke\n",
    "x = [0]\n",
    "#dx = x[1]-x[0]\n",
    "t = np.linspace(0,20,500)\n",
    "dt = t[1]-t[0]\n",
    "\n",
    "# rješavamo ODJ\n",
    "z = odeint(model,z0,t)\n",
    "u = np.array([z[:,0]])"
   ]
  },
  {
   "cell_type": "code",
   "execution_count": 3,
   "id": "d1846eea",
   "metadata": {},
   "outputs": [
    {
     "data": {
      "text/plain": [
       "Text(0, 0.5, 'u(t)')"
      ]
     },
     "execution_count": 3,
     "metadata": {},
     "output_type": "execute_result"
    },
    {
     "data": {
      "image/png": "[encoded data removed]",
      "text/plain": [
       "<Figure size 576x432 with 1 Axes>"
      ]
     },
     "metadata": {
      "needs_background": "light"
     },
     "output_type": "display_data"
    }
   ],
   "source": [
    "fig1 = plt.figure(figsize=(8,6))\n",
    "plt.plot(t,u[0,:],color='firebrick')\n",
    "plt.title('Van der Polov oscilator', fontsize = 20)\n",
    "plt.xlabel('t', fontsize = 16)\n",
    "plt.ylabel('u(t)', fontsize = 16)"
   ]
  },
  {
   "cell_type": "markdown",
   "id": "01268160",
   "metadata": {},
   "source": [
    "## Konstruiramo $\\Theta (U)$ i računamo $U_t$:\n",
    "\n",
    "Konstruiramo funkcije koje će se nalaziti u $\\Theta$. Također specificiramo njihove opise i na kraju pomoću build_Theta konstruiramo $\\Theta$ koji ćemo koristiti kasnije. <br>\n",
    "time_diff i space_diff izračunati su pomoću metode konačnih razlika (funkcija FiniteDiff()).\n",
    "\n",
    "Ispisana je lista funkcija kandidata za PDJ. Svaka od ispisanih funkcija ekvivalentna je stupcu u $\\Theta (U)$."
   ]
  },
  {
   "cell_type": "code",
   "execution_count": 4,
   "id": "f5ba1f95",
   "metadata": {},
   "outputs": [
    {
     "data": {
      "text/plain": [
       "['', 'u_t', 'u', 'u^2', 'uu_t', 'u^2u_t']"
      ]
     },
     "execution_count": 4,
     "metadata": {},
     "output_type": "execute_result"
    }
   ],
   "source": [
    "m = len(x)\n",
    "n = len(t)\n",
    "\n",
    "ut = np.zeros((m,n), dtype=np.complex64)\n",
    "utt = np.zeros((m,n), dtype=np.complex64)\n",
    "\n",
    "for i in range(m):\n",
    "    ut[i,:] = FiniteDiff(u[i,:], dt, 1)\n",
    "    utt[i,:] = FiniteDiff(u[i,:], dt,2) # koristi se kasnije kod funkcije TrainSTRidge\n",
    "\n",
    "ut = np.reshape(ut, (n*m,1), order='F')\n",
    "utt = np.reshape(utt, (n*m,1), order='F')\n",
    "\n",
    "X_ders = np.hstack([np.ones((n*m,1)),ut])\n",
    "X_data = np.hstack([np.reshape(u, (n*m,1), order='F')])\n",
    "derivatives_description = ['','u_t']\n",
    "\n",
    "X, descr = build_Theta(X_data, X_ders, derivatives_description, P=2, data_description = ['u'])\n",
    "descr"
   ]
  },
  {
   "cell_type": "markdown",
   "id": "010cd2fa",
   "metadata": {},
   "source": [
    "## Računamo $\\xi$:\n",
    "\n",
    "TrainSTRidge dijeli podatke na dio za trening (80% ukupnih podataka) i dio za validaciju (20% ukupnih podataka). Algoritam traži optimalnu vrijednost za varijablu tol (tolerancija ispod koje zanemarujemo varijablu) i odabire toleranciju provjerom na validacijskom skupu, uključujući i $\\ell^0$ penalizaciju za $\\xi$ u funkciji gubitka."
   ]
  },
  {
   "cell_type": "code",
   "execution_count": 5,
   "id": "1164dd9a",
   "metadata": {},
   "outputs": [
    {
     "name": "stdout",
     "output_type": "stream",
     "text": [
      "PDJ dobivena pomoću STRidge:\n",
      "u_tt = (4.926123 +0.000000i)u_t\n",
      "    + (-0.976853 +0.000000i)u\n",
      "    + (-4.905555 +0.000000i)u^2u_t\n",
      "   \n"
     ]
    }
   ],
   "source": [
    "# Solve with STRidge\n",
    "w = TrainSTRidge(X,utt,10**-5,0.1)\n",
    "print(\"PDJ dobivena pomoću STRidge:\")\n",
    "print_pde(w, descr)"
   ]
  },
  {
   "cell_type": "code",
   "execution_count": 6,
   "id": "fcc1f4a3",
   "metadata": {},
   "outputs": [
    {
     "name": "stdout",
     "output_type": "stream",
     "text": [
      "Greška parametra uz član u_t dobivena koristeći PDE-FIND za identifikaciju dinamike na podatcima:\n",
      "\n",
      "1.4775349197515553 %\n",
      "\n",
      "Greška parametra uz član u dobivena koristeći PDE-FIND za identifikaciju dinamike na podatcima sa šumom:\n",
      "\n",
      "2.314651562715131 %\n",
      "\n",
      "Greška parametra uz član u^2u_t dobivena koristeći PDE-FIND za identifikaciju dinamike na podatcima:\n",
      "\n",
      "1.8889045902740522 %\n"
     ]
    }
   ],
   "source": [
    "err1 = abs((5 -  w[1][0])/5*100)\n",
    "print(\"Greška parametra uz član u_t dobivena koristeći PDE-FIND za identifikaciju dinamike na podatcima:\\n\")\n",
    "print(err1, '%\\n')\n",
    "\n",
    "err2 = abs((-1 -  w[2][0])*100)\n",
    "print(\"Greška parametra uz član u dobivena koristeći PDE-FIND za identifikaciju dinamike na podatcima sa šumom:\\n\")\n",
    "print(err2, '%\\n')\n",
    "\n",
    "err3 = abs((-5 -  w[5][0])/5*100)\n",
    "print(\"Greška parametra uz član u^2u_t dobivena koristeći PDE-FIND za identifikaciju dinamike na podatcima:\\n\")\n",
    "print(err3, '%')"
   ]
  },
  {
   "attachments": {},
   "cell_type": "markdown",
   "id": "8095af54",
   "metadata": {},
   "source": [
    "Jednadžba $u_{tt} = 5 u_t - u - 5 u^2 u_t$ je dosta dobro rekonstruirana, ali tek nakon što je broj točaka u danom vremenskom intervalu $[0,50]$ povećan na N=500."
   ]
  },
  {
   "cell_type": "markdown",
   "id": "a5744dd1",
   "metadata": {},
   "source": [
    "## Identificiramo istu dinamiku ali sa dodanim šumom na podatcima:\n",
    "\n",
    "Jedina razlika od primjera gore je da metoda konačnih razlika ne radi dobro za podatke sa šumom pa koristimo polinomijalnu interpolaciju. Sa deg_x ili deg_t i width_x i width_t određujemo stupanj polinoma i broj točaka za deriviranje po x i t. Nažalost, rezultati mogu biti osjetljivi na ove veličine."
   ]
  },
  {
   "cell_type": "code",
   "execution_count": 7,
   "id": "5a9cb2b7",
   "metadata": {},
   "outputs": [],
   "source": [
    "np.random.seed(0)\n",
    "u_sum = u + np.random.normal(loc=0, scale=0.05, size=(u.shape[0],u.shape[1]))"
   ]
  },
  {
   "cell_type": "code",
   "execution_count": 8,
   "id": "71f54d4a",
   "metadata": {},
   "outputs": [
    {
     "data": {
      "text/plain": [
       "<matplotlib.legend.Legend at 0x1bc92403df0>"
      ]
     },
     "execution_count": 8,
     "metadata": {},
     "output_type": "execute_result"
    },
    {
     "data": {
      "image/png": "[encoded data removed]",
      "text/plain": [
       "<Figure size 576x432 with 1 Axes>"
      ]
     },
     "metadata": {
      "needs_background": "light"
     },
     "output_type": "display_data"
    }
   ],
   "source": [
    "fig1 = plt.figure(figsize=(8,6))\n",
    "plt.plot(t,u_sum[0,:],'.',color='firebrick',label='$u_n(t)$')\n",
    "plt.plot(t,u[0,:],'--',color='green',label='$u(t)$')\n",
    "plt.title('Van der Polov oscilator sa šumom', fontsize = 20)\n",
    "plt.xlabel('$t$', fontsize = 16)\n",
    "plt.ylabel('$u(t)$', fontsize = 16)\n",
    "plt.legend()"
   ]
  },
  {
   "cell_type": "code",
   "execution_count": 9,
   "id": "4734e466",
   "metadata": {},
   "outputs": [],
   "source": [
    "def trim(u, d): #funkcija koja treba kasnije kako bi algoritam funkcionirao\n",
    "    ind = np.arange(0, len(u))\n",
    "    u_trim = np.delete(u, np.concatenate((ind[:d],ind[-d:])))\n",
    "    return u_trim"
   ]
  },
  {
   "cell_type": "code",
   "execution_count": 10,
   "id": "f5ba1f95",
   "metadata": {},
   "outputs": [
    {
     "data": {
      "text/plain": [
       "['', 'u_t', 'u', 'u^2', 'uu_t', 'u^2u_t']"
      ]
     },
     "execution_count": 10,
     "metadata": {},
     "output_type": "execute_result"
    }
   ],
   "source": [
    "m = len(x)\n",
    "n = len(t)\n",
    "podatci = []\n",
    "run = 10\n",
    "\n",
    "width = 4 # sirina prozora kod PolyDiff funkcije\n",
    "\n",
    "for k in range(run):\n",
    "    np.random.seed(k)\n",
    "    un = u + np.random.normal(loc=0, scale=0.05, size=(u.shape[0],u.shape[1]))\n",
    "\n",
    "    unt = np.zeros((m,n-2*width), dtype=np.complex64)\n",
    "    untt = np.zeros((m,n-2*width), dtype=np.complex64)\n",
    "    ones = np.ones((m,n), dtype=np.complex64)\n",
    "\n",
    "    for i in range(m):\n",
    "        unt[i,:] = PolyDiff(un[i,:], t, diff=2, width=width)[:,0]\n",
    "        untt[i,:] = PolyDiff(un[i,:], t, diff=2, width=width)[:,1] # koristi se kasnije kod funkcije TrainSTRidge\n",
    "\n",
    "    un = trim(un[0,:], width)\n",
    "    ones = trim(ones[0,:], width)\n",
    "\n",
    "    unt = np.reshape(unt, (-1,1), order='F')\n",
    "    untt = np.reshape(untt, (-1,1), order='F')\n",
    "\n",
    "    X_ders = np.hstack([np.ones((n*m-2*width,1)), unt])\n",
    "    X_data = np.hstack([np.reshape(un, (-1,1), order='F')])\n",
    "    derivatives_description = ['','u_t']\n",
    "\n",
    "    X, descr = build_Theta(X_data, X_ders, derivatives_description, P=2, data_description = ['u'])\n",
    "\n",
    "    w = TrainSTRidge(X,untt,10**2,1)\n",
    "    podatci.append(w)\n",
    "descr"
   ]
  },
  {
   "cell_type": "code",
   "execution_count": 11,
   "id": "49263df1",
   "metadata": {},
   "outputs": [
    {
     "name": "stdout",
     "output_type": "stream",
     "text": [
      "PDJ dobivena pomoću STRidge:\n",
      "u_tt = (3.053565 +0.000000i)u_t\n",
      "    + (-1.077394 +0.000000i)u\n",
      "    + (-2.841853 +0.000000i)u^2u_t\n",
      "   \n",
      "PDJ dobivena pomoću STRidge:\n",
      "u_tt = (3.354906 +0.000000i)u_t\n",
      "    + (-0.952467 +0.000000i)u\n",
      "    + (-3.107688 +0.000000i)u^2u_t\n",
      "   \n",
      "PDJ dobivena pomoću STRidge:\n",
      "u_tt = (3.535545 +0.000000i)u_t\n",
      "    + (-1.052394 +0.000000i)u\n",
      "    + (-3.213164 +0.000000i)u^2u_t\n",
      "   \n",
      "PDJ dobivena pomoću STRidge:\n",
      "u_tt = (-0.101584 +0.000000i)\n",
      "    + (3.237054 +0.000000i)u_t\n",
      "    + (-0.933438 +0.000000i)u\n",
      "    + (0.023009 +0.000000i)u^2\n",
      "    + (-0.051091 +0.000000i)uu_t\n",
      "    + (-3.004370 +0.000000i)u^2u_t\n",
      "   \n",
      "PDJ dobivena pomoću STRidge:\n",
      "u_tt = (3.352522 +0.000000i)u_t\n",
      "    + (-1.098930 +0.000000i)u\n",
      "    + (-3.190459 +0.000000i)u^2u_t\n",
      "   \n",
      "PDJ dobivena pomoću STRidge:\n",
      "u_tt = (3.266863 +0.000000i)u_t\n",
      "    + (-0.954999 +0.000000i)u\n",
      "    + (-3.075804 +0.000000i)u^2u_t\n",
      "   \n",
      "PDJ dobivena pomoću STRidge:\n",
      "u_tt = (3.399766 +0.000000i)u_t\n",
      "    + (-1.162331 +0.000000i)u\n",
      "    + (-3.108004 +0.000000i)u^2u_t\n",
      "   \n",
      "PDJ dobivena pomoću STRidge:\n",
      "u_tt = (3.024457 +0.000000i)u_t\n",
      "    + (-0.977256 +0.000000i)u\n",
      "    + (-3.048386 +0.000000i)u^2u_t\n",
      "   \n",
      "PDJ dobivena pomoću STRidge:\n",
      "u_tt = (3.043801 +0.000000i)u_t\n",
      "    + (-1.076578 +0.000000i)u\n",
      "    + (-2.814631 +0.000000i)u^2u_t\n",
      "   \n",
      "PDJ dobivena pomoću STRidge:\n",
      "u_tt = (3.110463 +0.000000i)u_t\n",
      "    + (-0.987207 +0.000000i)u\n",
      "    + (-2.942254 +0.000000i)u^2u_t\n",
      "   \n"
     ]
    }
   ],
   "source": [
    "for i in range(run):\n",
    "    print(\"PDJ dobivena pomoću STRidge:\")\n",
    "    print_pde(podatci[i], descr)"
   ]
  },
  {
   "cell_type": "code",
   "execution_count": 12,
   "id": "eb913f79",
   "metadata": {},
   "outputs": [
    {
     "name": "stdout",
     "output_type": "stream",
     "text": [
      "Greška dobivena koristeći PDE-FIND za identifikaciju dinamike na podatcima sa šumom:\n",
      "\n",
      "Srednja greška parametra uz član u_t: 35.24211617030823 %\n",
      "Standardna devijacija srednje greške parametra uz član u_t: 3.3221289163272285 %\n"
     ]
    }
   ],
   "source": [
    "lista_koef1 = np.reshape(podatci, (run, len(descr)))[:,1].real\n",
    "err1 = abs((5 - lista_koef1)/5*100)\n",
    "print(\"Greška dobivena koristeći PDE-FIND za identifikaciju dinamike na podatcima sa šumom:\\n\")\n",
    "print(\"Srednja greška parametra uz član u_t:\", np.mean(err1), '%')\n",
    "print(\"Standardna devijacija srednje greške parametra uz član u_t:\", np.std(err1), '%')"
   ]
  },
  {
   "cell_type": "code",
   "execution_count": 13,
   "id": "3821fd10",
   "metadata": {},
   "outputs": [
    {
     "name": "stdout",
     "output_type": "stream",
     "text": [
      "Greška dobivena koristeći PDE-FIND za identifikaciju dinamike na podatcima sa šumom:\n",
      "\n",
      "Srednja greška parametra uz član u^2u_t: 6.622605059476017 %\n",
      "Standardna devijacija srednje greške parametra uz član u^2u_t: 4.0341895057161645 %\n"
     ]
    }
   ],
   "source": [
    "lista_koef2 = np.reshape(podatci, (run, len(descr)))[:,2].real\n",
    "err2 = abs((-1 - lista_koef2)/1*100)\n",
    "print(\"Greška dobivena koristeći PDE-FIND za identifikaciju dinamike na podatcima sa šumom:\\n\")\n",
    "print(\"Srednja greška parametra uz član u^2u_t:\", np.mean(err2), '%')\n",
    "print(\"Standardna devijacija srednje greške parametra uz član u^2u_t:\", np.std(err2), '%')"
   ]
  },
  {
   "cell_type": "code",
   "execution_count": 14,
   "id": "65f7f9a2",
   "metadata": {},
   "outputs": [
    {
     "name": "stdout",
     "output_type": "stream",
     "text": [
      "Greška dobivena koristeći PDE-FIND za identifikaciju dinamike na podatcima sa šumom:\n",
      "\n",
      "Srednja greška parametra uz član u: 39.3067711592513 %\n",
      "Standardna devijacija srednje greške parametra uz član u: 2.559486882480073 %\n"
     ]
    }
   ],
   "source": [
    "lista_koef3 = np.reshape(podatci, (run, len(descr)))[:,5].real\n",
    "err3 = abs((-5 - lista_koef3)/5*100)\n",
    "print(\"Greška dobivena koristeći PDE-FIND za identifikaciju dinamike na podatcima sa šumom:\\n\")\n",
    "print(\"Srednja greška parametra uz član u:\", np.mean(err3), '%')\n",
    "print(\"Standardna devijacija srednje greške parametra uz član u:\", np.std(err3), '%')"
   ]
  },
  {
   "attachments": {},
   "cell_type": "markdown",
   "id": "7e7a1cea",
   "metadata": {},
   "source": [
    "# Srednja jednadžba:\n",
    "Jednadžba dobivena tako da se uzme srednja vrijednost dobivenih koeficijenata u svim iteracijama."
   ]
  },
  {
   "cell_type": "code",
   "execution_count": 15,
   "id": "a397d830",
   "metadata": {},
   "outputs": [
    {
     "name": "stdout",
     "output_type": "stream",
     "text": [
      "Srednja PDJ dobivena pomoću STRidge:\n",
      "u_tt = (-0.010158 +0.000000i)\n",
      "    + (3.237894 +0.000000i)u_t\n",
      "    + (-1.027299 +0.000000i)u\n",
      "    + (0.002301 +0.000000i)u^2\n",
      "    + (-0.005109 +0.000000i)uu_t\n",
      "    + (-3.034661 +0.000000i)u^2u_t\n",
      "   \n"
     ]
    }
   ],
   "source": [
    "mean_podatci = np.mean(podatci, axis=0)\n",
    "print(\"Srednja PDJ dobivena pomoću STRidge:\")\n",
    "print_pde(mean_podatci, descr)"
   ]
  }
 ],
 "metadata": {
  "kernelspec": {
   "display_name": "base",
   "language": "python",
   "name": "python3"
  },
  "language_info": {
   "codemirror_mode": {
    "name": "ipython",
    "version": 3
   },
   "file_extension": ".py",
   "mimetype": "text/x-python",
   "name": "python",
   "nbconvert_exporter": "python",
   "pygments_lexer": "ipython3",
   "version": "3.9.12 (main, Apr  4 2022, 05:22:27) [MSC v.1916 64 bit (AMD64)]"
  },
  "vscode": {
   "interpreter": {
    "hash": "24fd04cf1b8dd920425e0015d5188aceeb51298c945c2fa020872a2219f8b4c9"
   }
  }
 },
 "nbformat": 4,
 "nbformat_minor": 5
}
