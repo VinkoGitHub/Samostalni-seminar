{
 "cells": [
  {
   "cell_type": "markdown",
   "id": "387a4377",
   "metadata": {},
   "source": [
    "# PDE-FIND za gravitacijski pad\n",
    "\n",
    "Vinko Dragušica, 2022.\n",
    "\n",
    "Predstavljen je kod koji pomoću modula PDE-FIND iz danih podataka otkriva jednadžbu koja opisuje dinamiku čestice koja pada pod utjecajem homogenog gravitacijskog polja za $g = 9.81$.\n",
    "$$\n",
    "u_{tt} = -g\n",
    "$$"
   ]
  },
  {
   "cell_type": "code",
   "execution_count": 1,
   "id": "8ca55ba3",
   "metadata": {},
   "outputs": [],
   "source": [
    "%matplotlib inline\n",
    "import numpy as np\n",
    "import matplotlib.pyplot as plt\n",
    "import sys; sys.path.append('../')\n",
    "from PDE_FIND_CM import *"
   ]
  },
  {
   "cell_type": "code",
   "execution_count": 2,
   "id": "740c31ea",
   "metadata": {},
   "outputs": [],
   "source": [
    "x = [0]\n",
    "#dx = x[1]-x[0]\n",
    "t = np.linspace(0,25,250)\n",
    "dt = t[1]-t[0]\n",
    "u = np.zeros((len(x),len(t)))\n",
    "\n",
    "def wf(x,t):\n",
    "    h=100\n",
    "    g = 9.81\n",
    "    return h-g*t**2/2\n",
    "\n",
    "for i in range(len(x)):\n",
    "    for j in range(len(t)):\n",
    "        u[i,j] = wf(x[i],t[j])"
   ]
  },
  {
   "cell_type": "code",
   "execution_count": 3,
   "id": "d1846eea",
   "metadata": {},
   "outputs": [
    {
     "data": {
      "text/plain": [
       "Text(0, 0.5, 'u(t)')"
      ]
     },
     "execution_count": 3,
     "metadata": {},
     "output_type": "execute_result"
    },
    {
     "data": {
      "image/png": "[encoded data removed]",
      "text/plain": [
       "<Figure size 576x432 with 1 Axes>"
      ]
     },
     "metadata": {
      "needs_background": "light"
     },
     "output_type": "display_data"
    }
   ],
   "source": [
    "fig1 = plt.figure(figsize=(8,6))\n",
    "plt.plot(t,u[0,:],color='firebrick')\n",
    "plt.title('Gravitacijski pad', fontsize = 20)\n",
    "plt.xlabel('t', fontsize = 16)\n",
    "plt.ylabel('u(t)', fontsize = 16)"
   ]
  },
  {
   "attachments": {},
   "cell_type": "markdown",
   "id": "01268160",
   "metadata": {},
   "source": [
    "## Konstruiramo $\\Theta (U)$ i računamo $U_t$:\n",
    "\n",
    "Konstruiramo funkcije koje će se nalaziti u $\\Theta$. Također specificiramo njihove opise i na kraju pomoću build_Theta konstruiramo $\\Theta$ koji ćemo koristiti kasnije. <br>\n",
    "time_diff je izračunat pomoću metode konačnih razlika (funkcija FiniteDiff()).\n",
    "\n",
    "Ispisana je lista funkcija kandidata za PDJ. Svaka od ispisanih funkcija ekvivalentna je stupcu u $\\Theta (U)$."
   ]
  },
  {
   "cell_type": "code",
   "execution_count": 4,
   "id": "f5ba1f95",
   "metadata": {},
   "outputs": [
    {
     "data": {
      "text/plain": [
       "['', 'u_{t}', 'u^3', 'u^2', 'u', 'u^3u_{t}', 'u^2u_{t}', 'uu_{t}']"
      ]
     },
     "execution_count": 4,
     "metadata": {},
     "output_type": "execute_result"
    }
   ],
   "source": [
    "m = len(x)\n",
    "n = len(t)\n",
    "\n",
    "ut = np.zeros((m,n), dtype=np.complex64)\n",
    "utt = np.zeros((m,n), dtype=np.complex64)\n",
    "u2 = np.zeros((m,n), dtype=np.complex64)\n",
    "u3 = np.zeros((m,n), dtype=np.complex64)\n",
    "\n",
    "for i in range(m):\n",
    "    ut[i,:] = FiniteDiff(u[i,:], dt, 1)\n",
    "    utt[i,:] = FiniteDiff(u[i,:], dt,2) # koristi se kasnije kod funkcije TrainSTRidge\n",
    "    u2[i,:] = u[i,:]**2\n",
    "    u3[i,:] = u[i,:]**3\n",
    "    \n",
    "ut = np.reshape(ut, (n*m,1), order='F')\n",
    "utt = np.reshape(utt, (n*m,1), order='F')\n",
    "\n",
    "X_ders = np.hstack([np.ones((n*m,1)),ut])\n",
    "X_data = np.hstack([np.reshape(u, (n*m,1), order='F'),\n",
    "                    np.reshape(u2, (n*m,1), order='F'),\n",
    "                    np.reshape(u3, (n*m,1), order='F')])\n",
    "derivatives_description = ['','u_{t}']\n",
    "\n",
    "X, descr = build_Theta(X_data, X_ders, derivatives_description, P=1, data_description = ['u','u^2','u^3'])\n",
    "descr"
   ]
  },
  {
   "cell_type": "markdown",
   "id": "010cd2fa",
   "metadata": {},
   "source": [
    "## Računamo $\\xi$:\n",
    "\n",
    "TrainSTRidge dijeli podatke na dio za trening (80% ukupnih podataka) i dio za validaciju (20% ukupnih podataka). Algoritam traži optimalnu vrijednost za varijablu tol (tolerancija ispod koje zanemarujemo varijablu) i odabire toleranciju provjerom na validacijskom skupu, uključujući i $\\ell^0$ penalizaciju za $\\xi$ u funkciji gubitka."
   ]
  },
  {
   "cell_type": "code",
   "execution_count": 5,
   "id": "1164dd9a",
   "metadata": {},
   "outputs": [
    {
     "name": "stdout",
     "output_type": "stream",
     "text": [
      "PDJ dobivena pomoću STRidge:\n",
      "u_tt = (-9.810000 -0.000000i)\n",
      "   \n"
     ]
    }
   ],
   "source": [
    "# Solve with STRidge\n",
    "w = TrainSTRidge(X,utt,10**-5,0.1)\n",
    "print(\"PDJ dobivena pomoću STRidge:\")\n",
    "print_pde(w, descr)"
   ]
  },
  {
   "cell_type": "code",
   "execution_count": 6,
   "id": "fcc1f4a3",
   "metadata": {},
   "outputs": [
    {
     "name": "stdout",
     "output_type": "stream",
     "text": [
      "Greška dobivena koristeći PDE-FIND za identifikaciju dinamike na podatcima:\n",
      "\n",
      "0.0 %\n"
     ]
    }
   ],
   "source": [
    "err = abs(np.array([(0)*100]))\n",
    "print(\"Greška dobivena koristeći PDE-FIND za identifikaciju dinamike na podatcima:\\n\")\n",
    "print(np.mean(err), '%')\n",
    "#print(\"Srednja greška parametara:\", np.mean(err), '%')\n",
    "#print(\"Standardna devijacija srednje greške parametara:\", np.std(err), '%')"
   ]
  },
  {
   "cell_type": "markdown",
   "id": "a5744dd1",
   "metadata": {},
   "source": [
    "## Identificiramo istu dinamiku ali sa dodanim šumom na podatcima:\n",
    "\n",
    "Jedina razlika od primjera gore je da metoda konačnih razlika ne radi dobro za podatke sa šumom pa koristimo polinomijalnu interpolaciju. Sa deg_x ili deg_t i width_x i width_t određujemo stupanj polinoma i broj točaka za deriviranje po x i t. Nažalost, rezultati mogu biti osjetljivi na ove veličine."
   ]
  },
  {
   "cell_type": "code",
   "execution_count": 7,
   "id": "5a9cb2b7",
   "metadata": {},
   "outputs": [],
   "source": [
    "np.random.seed(0)\n",
    "un = u + 0.01*np.std(u)*np.random.randn(u.shape[0],u.shape[1])"
   ]
  },
  {
   "cell_type": "code",
   "execution_count": 8,
   "id": "71f54d4a",
   "metadata": {},
   "outputs": [
    {
     "data": {
      "text/plain": [
       "<matplotlib.legend.Legend at 0x22582365400>"
      ]
     },
     "execution_count": 8,
     "metadata": {},
     "output_type": "execute_result"
    },
    {
     "data": {
      "image/png": "[encoded data removed]",
      "text/plain": [
       "<Figure size 576x432 with 1 Axes>"
      ]
     },
     "metadata": {
      "needs_background": "light"
     },
     "output_type": "display_data"
    }
   ],
   "source": [
    "fig = plt.figure(figsize=(8,6))\n",
    "plt.plot(t,un[0,:],'.',color='firebrick',label='$u_n(t)$')\n",
    "plt.plot(t,u[0,:],'--',color='green',label='$u(t)$')\n",
    "plt.title('Slobodni pad sa šumom', fontsize = 20)\n",
    "plt.xlabel('$t$', fontsize = 16)\n",
    "plt.ylabel('$u(t)$', fontsize = 16)\n",
    "plt.legend()"
   ]
  },
  {
   "cell_type": "code",
   "execution_count": 9,
   "id": "4734e466",
   "metadata": {},
   "outputs": [],
   "source": [
    "def trim(u, d): #funkcija koja treba kasnije kako bi algoritam funkcionirao\n",
    "    ind = np.arange(0, len(u))\n",
    "    u_trim = np.delete(u, np.concatenate((ind[:d],ind[-d:])))\n",
    "    return u_trim\n",
    "\n",
    "#un[0,:]=ConvSmoother(un[0,:], p=15, sigma=10)"
   ]
  },
  {
   "cell_type": "code",
   "execution_count": 10,
   "id": "f5ba1f95",
   "metadata": {},
   "outputs": [
    {
     "data": {
      "text/plain": [
       "['', 'u_t', 'u^3', 'u^2', 'u', 'u^3u_t', 'u^2u_t', 'uu_t']"
      ]
     },
     "execution_count": 10,
     "metadata": {},
     "output_type": "execute_result"
    }
   ],
   "source": [
    "m = len(x)\n",
    "n = len(t)\n",
    "\n",
    "width = 30 # sirina prozora kod PolyDiff funkcije\n",
    "\n",
    "ones = np.ones((m,n), dtype=np.complex64)\n",
    "unt = np.zeros((m,n-2*width), dtype=np.complex64)\n",
    "untt = np.zeros((m,n-2*width), dtype=np.complex64)\n",
    "u2 = np.zeros((m,n), dtype=np.complex64)\n",
    "u3 = np.zeros((m,n), dtype=np.complex64)\n",
    "\n",
    "for i in range(m):\n",
    "    unt[i,:] = PolyDiff(un[i,:], t, diff=2, width=width)[:,0]\n",
    "    untt[i,:] = PolyDiff(un[i,:], t, diff=2, width=width)[:,1] # koristi se kasnije kod funkcije TrainSTRidge\n",
    "    u2[i,:] = un[i,:]**2\n",
    "    u3[i,:] = un[i,:]**3\n",
    "\n",
    "ones = trim(ones[0,:], width)\n",
    "un = trim(un[0,:], width)\n",
    "u2 = trim(u2[0,:], width)\n",
    "u3 = trim(u3[0,:], width)\n",
    "\n",
    "unt = np.reshape(unt, (-1,1), order='F')\n",
    "untt = np.reshape(untt, (-1,1), order='F')\n",
    "\n",
    "X_ders = np.hstack([np.ones((n*m-2*width,1)), unt])\n",
    "X_data = np.hstack([np.reshape(un, (-1,1), order='F'),\n",
    "                    np.reshape(u2, (-1,1), order='F'),\n",
    "                    np.reshape(u3, (-1,1), order='F')])\n",
    "derivatives_description = ['','u_t']\n",
    "\n",
    "X, descr = build_Theta(X_data, X_ders, derivatives_description, P=1, data_description = ['u','u^2','u^3'])\n",
    "\n",
    "descr"
   ]
  },
  {
   "cell_type": "code",
   "execution_count": 11,
   "id": "49263df1",
   "metadata": {},
   "outputs": [
    {
     "name": "stdout",
     "output_type": "stream",
     "text": [
      "PDJ dobivena pomoću STRidge:\n",
      "u_tt = (-9.761489 -0.000000i)\n",
      "   \n"
     ]
    }
   ],
   "source": [
    "w = TrainSTRidge(X,untt,10**-5,5)\n",
    "print(\"PDJ dobivena pomoću STRidge:\")\n",
    "print_pde(w, descr)"
   ]
  },
  {
   "cell_type": "code",
   "execution_count": 12,
   "id": "eb913f79",
   "metadata": {},
   "outputs": [
    {
     "name": "stdout",
     "output_type": "stream",
     "text": [
      "Greška dobivena koristeći PDE-FIND za identifikaciju dinamike na podatcima sa šumom:\n",
      "\n",
      "0.4945056065239684 %\n"
     ]
    }
   ],
   "source": [
    "err = abs(np.array([(9.761489 - 9.81)/9.81*100]))\n",
    "print(\"Greška dobivena koristeći PDE-FIND za identifikaciju dinamike na podatcima sa šumom:\\n\")\n",
    "print(np.mean(err), '%')\n",
    "#print(\"Srednja greška parametara:\", np.mean(err), '%')\n",
    "#print(\"Standardna devijacija srednje greške parametara:\", np.std(err), '%')"
   ]
  }
 ],
 "metadata": {
  "kernelspec": {
   "display_name": "base",
   "language": "python",
   "name": "python3"
  },
  "language_info": {
   "codemirror_mode": {
    "name": "ipython",
    "version": 3
   },
   "file_extension": ".py",
   "mimetype": "text/x-python",
   "name": "python",
   "nbconvert_exporter": "python",
   "pygments_lexer": "ipython3",
   "version": "3.9.12"
  },
  "vscode": {
   "interpreter": {
    "hash": "24fd04cf1b8dd920425e0015d5188aceeb51298c945c2fa020872a2219f8b4c9"
   }
  }
 },
 "nbformat": 4,
 "nbformat_minor": 5
}
