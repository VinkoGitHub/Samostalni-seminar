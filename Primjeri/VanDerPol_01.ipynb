{
 "cells": [
  {
   "attachments": {},
   "cell_type": "markdown",
   "id": "387a4377",
   "metadata": {},
   "source": [
    "# PDE-FIND za Van der Polov oscilator\n",
    "\n",
    "Vinko Dragušica, 2022.\n",
    "\n",
    "Predstavljen je kod koji pomoću modula PDE-FIND iz danih podataka otkriva jednadžbu koja opisuje dinamiku Van der Polovog oscilatora za $\\mu=0.1$.\n",
    "$$\n",
    "u_{tt} - \\mu(1-u^2)u_t + u = 0\n",
    "$$"
   ]
  },
  {
   "cell_type": "code",
   "execution_count": 1,
   "id": "8ca55ba3",
   "metadata": {},
   "outputs": [],
   "source": [
    "%matplotlib inline\n",
    "import numpy as np\n",
    "from scipy.integrate import odeint\n",
    "import matplotlib.pyplot as plt\n",
    "import sys; sys.path.append('../')\n",
    "from PDE_FIND_CM import *"
   ]
  },
  {
   "cell_type": "code",
   "execution_count": 2,
   "id": "740c31ea",
   "metadata": {},
   "outputs": [],
   "source": [
    "# u funkciju ubacujemo varijable i ona izbacuje derivacije tih varijabli\n",
    "def model(z,t,mu=0.1):\n",
    "    x = z[0]\n",
    "    dx = z[1]\n",
    "    ddx = mu*(1-x**2)*dx - x\n",
    "    dzdt = [dx,ddx]\n",
    "    return dzdt\n",
    "\n",
    "# početni uvjet (z0 = [x(t=0), dx/dt(t=0)])\n",
    "z0 = [5,1]\n",
    "\n",
    "# prostorne i vremenske točke\n",
    "x = [0]\n",
    "#dx = x[1]-x[0]\n",
    "t = np.linspace(0,30,500)\n",
    "dt = t[1]-t[0]\n",
    "\n",
    "# rješavamo ODJ\n",
    "z = odeint(model,z0,t)\n",
    "u = np.array([z[:,0]])"
   ]
  },
  {
   "cell_type": "code",
   "execution_count": 3,
   "id": "d1846eea",
   "metadata": {},
   "outputs": [
    {
     "data": {
      "text/plain": [
       "Text(0, 0.5, 'u(t)')"
      ]
     },
     "execution_count": 3,
     "metadata": {},
     "output_type": "execute_result"
    },
    {
     "data": {
      "image/png": "[encoded data removed]",
      "text/plain": [
       "<Figure size 576x432 with 1 Axes>"
      ]
     },
     "metadata": {
      "needs_background": "light"
     },
     "output_type": "display_data"
    }
   ],
   "source": [
    "fig1 = plt.figure(figsize=(8,6))\n",
    "plt.plot(t,u[0,:],color='firebrick')\n",
    "plt.title('Van der Polov oscilator', fontsize = 20)\n",
    "plt.xlabel('t', fontsize = 16)\n",
    "plt.ylabel('u(t)', fontsize = 16)"
   ]
  },
  {
   "cell_type": "markdown",
   "id": "01268160",
   "metadata": {},
   "source": [
    "## Konstruiramo $\\Theta (U)$ i računamo $U_t$:\n",
    "\n",
    "Konstruiramo funkcije koje će se nalaziti u $\\Theta$. Također specificiramo njihove opise i na kraju pomoću build_Theta konstruiramo $\\Theta$ koji ćemo koristiti kasnije. <br>\n",
    "time_diff i space_diff izračunati su pomoću metode konačnih razlika (funkcija FiniteDiff()).\n",
    "\n",
    "Ispisana je lista funkcija kandidata za PDJ. Svaka od ispisanih funkcija ekvivalentna je stupcu u $\\Theta (U)$."
   ]
  },
  {
   "cell_type": "code",
   "execution_count": 4,
   "id": "f5ba1f95",
   "metadata": {},
   "outputs": [
    {
     "data": {
      "text/plain": [
       "['', 'u_t', 'u', 'u^2', 'uu_t', 'u^2u_t']"
      ]
     },
     "execution_count": 4,
     "metadata": {},
     "output_type": "execute_result"
    }
   ],
   "source": [
    "m = len(x)\n",
    "n = len(t)\n",
    "\n",
    "ut = np.zeros((m,n), dtype=np.complex64)\n",
    "utt = np.zeros((m,n), dtype=np.complex64)\n",
    "\n",
    "for i in range(m):\n",
    "    ut[i,:] = FiniteDiff(u[i,:], dt, 1)\n",
    "    utt[i,:] = FiniteDiff(u[i,:], dt,2) # koristi se kasnije kod funkcije TrainSTRidge\n",
    "\n",
    "ut = np.reshape(ut, (n*m,1), order='F')\n",
    "utt = np.reshape(utt, (n*m,1), order='F')\n",
    "\n",
    "X_ders = np.hstack([np.ones((n*m,1)),ut])\n",
    "X_data = np.hstack([np.reshape(u, (n*m,1), order='F')])\n",
    "derivatives_description = ['','u_t']\n",
    "\n",
    "X, descr = build_Theta(X_data, X_ders, derivatives_description, P=2, data_description = ['u'])\n",
    "descr"
   ]
  },
  {
   "cell_type": "markdown",
   "id": "010cd2fa",
   "metadata": {},
   "source": [
    "## Računamo $\\xi$:\n",
    "\n",
    "TrainSTRidge dijeli podatke na dio za trening (80% ukupnih podataka) i dio za validaciju (20% ukupnih podataka). Algoritam traži optimalnu vrijednost za varijablu tol (tolerancija ispod koje zanemarujemo varijablu) i odabire toleranciju provjerom na validacijskom skupu, uključujući i $\\ell^0$ penalizaciju za $\\xi$ u funkciji gubitka."
   ]
  },
  {
   "cell_type": "code",
   "execution_count": 5,
   "id": "1164dd9a",
   "metadata": {},
   "outputs": [
    {
     "name": "stdout",
     "output_type": "stream",
     "text": [
      "PDJ dobivena pomoću STRidge:\n",
      "u_tt = (0.099726 +0.000000i)u_t\n",
      "    + (-0.999290 +0.000000i)u\n",
      "    + (-0.099848 +0.000000i)u^2u_t\n",
      "   \n"
     ]
    }
   ],
   "source": [
    "# Solve with STRidge\n",
    "w = TrainSTRidge(X,utt,10**-5,0.1)\n",
    "print(\"PDJ dobivena pomoću STRidge:\")\n",
    "print_pde(w, descr)"
   ]
  },
  {
   "cell_type": "code",
   "execution_count": 6,
   "id": "fcc1f4a3",
   "metadata": {},
   "outputs": [
    {
     "name": "stdout",
     "output_type": "stream",
     "text": [
      "Greška parametra uz član u_t dobivena koristeći PDE-FIND za identifikaciju dinamike na podatcima:\n",
      "\n",
      "0.2744899655012095 %\n",
      "\n",
      "Greška parametra uz član u dobivena koristeći PDE-FIND za identifikaciju dinamike na podatcima sa šumom:\n",
      "\n",
      "0.07100507408895895 %\n",
      "\n",
      "Greška parametra uz član u^2u_t dobivena koristeći PDE-FIND za identifikaciju dinamike na podatcima:\n",
      "\n",
      "0.1520348034673713 %\n"
     ]
    }
   ],
   "source": [
    "err1 = abs((0.1 -  w[1][0])/0.1*100)\n",
    "print(\"Greška parametra uz član u_t dobivena koristeći PDE-FIND za identifikaciju dinamike na podatcima:\\n\")\n",
    "print(err1, '%\\n')\n",
    "\n",
    "err2 = abs((-1 -  w[2][0])*100)\n",
    "print(\"Greška parametra uz član u dobivena koristeći PDE-FIND za identifikaciju dinamike na podatcima sa šumom:\\n\")\n",
    "print(err2, '%\\n')\n",
    "\n",
    "err3 = abs((-0.1 -  w[5][0])/0.1*100)\n",
    "print(\"Greška parametra uz član u^2u_t dobivena koristeći PDE-FIND za identifikaciju dinamike na podatcima:\\n\")\n",
    "print(err3, '%')"
   ]
  },
  {
   "attachments": {},
   "cell_type": "markdown",
   "id": "8095af54",
   "metadata": {},
   "source": [
    "Jednadžba $u_{tt} = 0.1 u_t - u - 0.1 u^2 u_t$ je dosta dobro rekonstruirana, ali tek nakon što je broj točaka u danom vremenskom intervalu $[0,50]$ povećan na N=500."
   ]
  },
  {
   "cell_type": "markdown",
   "id": "a5744dd1",
   "metadata": {},
   "source": [
    "## Identificiramo istu dinamiku ali sa dodanim šumom na podatcima:\n",
    "\n",
    "Jedina razlika od primjera gore je da metoda konačnih razlika ne radi dobro za podatke sa šumom pa koristimo polinomijalnu interpolaciju. Sa deg_x ili deg_t i width_x i width_t određujemo stupanj polinoma i broj točaka za deriviranje po x i t. Nažalost, rezultati mogu biti osjetljivi na ove veličine."
   ]
  },
  {
   "cell_type": "code",
   "execution_count": 7,
   "id": "5a9cb2b7",
   "metadata": {},
   "outputs": [],
   "source": [
    "np.random.seed(0)\n",
    "u_sum = u + np.random.normal(loc=0, scale=0.05, size=(u.shape[0],u.shape[1]))"
   ]
  },
  {
   "cell_type": "code",
   "execution_count": 8,
   "id": "71f54d4a",
   "metadata": {},
   "outputs": [
    {
     "data": {
      "text/plain": [
       "<matplotlib.legend.Legend at 0x20ebfb15a90>"
      ]
     },
     "execution_count": 8,
     "metadata": {},
     "output_type": "execute_result"
    },
    {
     "data": {
      "image/png": "[encoded data removed]",
      "text/plain": [
       "<Figure size 576x432 with 1 Axes>"
      ]
     },
     "metadata": {
      "needs_background": "light"
     },
     "output_type": "display_data"
    }
   ],
   "source": [
    "fig1 = plt.figure(figsize=(8,6))\n",
    "plt.plot(t,u_sum[0,:],'.',color='firebrick',label='$u_n(t)$')\n",
    "plt.plot(t,u[0,:],'--',color='green',label='$u(t)$')\n",
    "plt.title('Van der Polov oscilator sa šumom', fontsize = 20)\n",
    "plt.xlabel('$t$', fontsize = 16)\n",
    "plt.ylabel('$u(t)$', fontsize = 16)\n",
    "plt.legend()"
   ]
  },
  {
   "cell_type": "code",
   "execution_count": 9,
   "id": "4734e466",
   "metadata": {},
   "outputs": [],
   "source": [
    "def trim(u, d): #funkcija koja treba kasnije kako bi algoritam funkcionirao\n",
    "    ind = np.arange(0, len(u))\n",
    "    u_trim = np.delete(u, np.concatenate((ind[:d],ind[-d:])))\n",
    "    return u_trim"
   ]
  },
  {
   "cell_type": "code",
   "execution_count": 10,
   "id": "f5ba1f95",
   "metadata": {},
   "outputs": [
    {
     "data": {
      "text/plain": [
       "['', 'u_t', 'u', 'u^2', 'uu_t', 'u^2u_t']"
      ]
     },
     "execution_count": 10,
     "metadata": {},
     "output_type": "execute_result"
    }
   ],
   "source": [
    "m = len(x)\n",
    "n = len(t)\n",
    "podatci = []\n",
    "run = 10\n",
    "\n",
    "width = 5 # sirina prozora kod PolyDiff funkcije\n",
    "\n",
    "for k in range(run):\n",
    "    np.random.seed(k)\n",
    "    un = u + np.random.normal(loc=0, scale=0.05, size=(u.shape[0],u.shape[1]))\n",
    "\n",
    "    unt = np.zeros((m,n-2*width), dtype=np.complex64)\n",
    "    untt = np.zeros((m,n-2*width), dtype=np.complex64)\n",
    "    ones = np.ones((m,n), dtype=np.complex64)\n",
    "\n",
    "    for i in range(m):\n",
    "        unt[i,:] = PolyDiff(un[i,:], t, diff=2, width=width)[:,0]\n",
    "        untt[i,:] = PolyDiff(un[i,:], t, diff=2, width=width)[:,1] # koristi se kasnije kod funkcije TrainSTRidge\n",
    "\n",
    "    un = trim(un[0,:], width)\n",
    "    ones = trim(ones[0,:], width)\n",
    "\n",
    "    unt = np.reshape(unt, (-1,1), order='F')\n",
    "    untt = np.reshape(untt, (-1,1), order='F')\n",
    "\n",
    "    X_ders = np.hstack([np.ones((n*m-2*width,1)), unt])\n",
    "    X_data = np.hstack([np.reshape(un, (-1,1), order='F')])\n",
    "    derivatives_description = ['','u_t']\n",
    "\n",
    "    X, descr = build_Theta(X_data, X_ders, derivatives_description, P=2, data_description = ['u'])\n",
    "\n",
    "    w = TrainSTRidge(X,untt,10**-5,0.1)\n",
    "    podatci.append(w)\n",
    "descr"
   ]
  },
  {
   "cell_type": "code",
   "execution_count": 11,
   "id": "49263df1",
   "metadata": {},
   "outputs": [
    {
     "name": "stdout",
     "output_type": "stream",
     "text": [
      "PDJ dobivena pomoću STRidge:\n",
      "u_tt = (0.065141 +0.000000i)u_t\n",
      "    + (-0.974764 +0.000000i)u\n",
      "    + (-0.092943 +0.000000i)u^2u_t\n",
      "   \n",
      "PDJ dobivena pomoću STRidge:\n",
      "u_tt = (0.083115 +0.000000i)u_t\n",
      "    + (-0.974592 +0.000000i)u\n",
      "    + (-0.090748 +0.000000i)u^2u_t\n",
      "   \n",
      "PDJ dobivena pomoću STRidge:\n",
      "u_tt = (-0.009754 +0.000000i)\n",
      "    + (0.060534 +0.000000i)u_t\n",
      "    + (-0.996845 +0.000000i)u\n",
      "    + (0.014735 +0.000000i)u^2\n",
      "    + (-0.009622 +0.000000i)uu_t\n",
      "    + (-0.084303 +0.000000i)u^2u_t\n",
      "   \n",
      "PDJ dobivena pomoću STRidge:\n",
      "u_tt = (-0.066383 +0.000000i)\n",
      "    + (0.066090 +0.000000i)u_t\n",
      "    + (-0.996663 +0.000000i)u\n",
      "    + (0.023416 +0.000000i)u^2\n",
      "    + (-0.011526 +0.000000i)uu_t\n",
      "    + (-0.083146 +0.000000i)u^2u_t\n",
      "   \n",
      "PDJ dobivena pomoću STRidge:\n",
      "u_tt = (-0.060558 +0.000000i)\n",
      "    + (0.079035 +0.000000i)u_t\n",
      "    + (-0.990013 +0.000000i)u\n",
      "    + (0.015558 +0.000000i)u^2\n",
      "    + (0.004135 +0.000000i)uu_t\n",
      "    + (-0.087395 +0.000000i)u^2u_t\n",
      "   \n",
      "PDJ dobivena pomoću STRidge:\n",
      "u_tt = (0.080927 +0.000000i)u_t\n",
      "    + (-0.968227 +0.000000i)u\n",
      "    + (-0.092773 +0.000000i)u^2u_t\n",
      "   \n",
      "PDJ dobivena pomoću STRidge:\n",
      "u_tt = (-0.056815 +0.000000i)\n",
      "    + (0.058072 +0.000000i)u_t\n",
      "    + (-0.974221 +0.000000i)u\n",
      "    + (0.018985 +0.000000i)u^2\n",
      "    + (0.002027 +0.000000i)uu_t\n",
      "    + (-0.077891 +0.000000i)u^2u_t\n",
      "   \n",
      "PDJ dobivena pomoću STRidge:\n",
      "u_tt = (0.110360 +0.000000i)u_t\n",
      "    + (-0.990375 +0.000000i)u\n",
      "    + (-0.094217 +0.000000i)u^2u_t\n",
      "   \n",
      "PDJ dobivena pomoću STRidge:\n",
      "u_tt = (0.031628 +0.000000i)\n",
      "    + (0.065181 +0.000000i)u_t\n",
      "    + (-0.998321 +0.000000i)u\n",
      "    + (-0.011423 +0.000000i)u^2\n",
      "    + (-0.007156 +0.000000i)uu_t\n",
      "    + (-0.088381 +0.000000i)u^2u_t\n",
      "   \n",
      "PDJ dobivena pomoću STRidge:\n",
      "u_tt = (0.094847 +0.000000i)u_t\n",
      "    + (-0.974041 +0.000000i)u\n",
      "    + (-0.095189 +0.000000i)u^2u_t\n",
      "   \n"
     ]
    }
   ],
   "source": [
    "for i in range(run):\n",
    "    print(\"PDJ dobivena pomoću STRidge:\")\n",
    "    print_pde(podatci[i], descr)"
   ]
  },
  {
   "cell_type": "code",
   "execution_count": 12,
   "id": "eb913f79",
   "metadata": {},
   "outputs": [
    {
     "name": "stdout",
     "output_type": "stream",
     "text": [
      "Greška dobivena koristeći PDE-FIND za identifikaciju dinamike na podatcima sa šumom:\n",
      "\n",
      "Srednja greška parametra uz član u_t: 25.741882553196803 %\n",
      "Standardna devijacija srednje greške parametra uz član u_t: 12.201762820035558 %\n"
     ]
    }
   ],
   "source": [
    "lista_koef1 = np.reshape(podatci, (run, len(descr)))[:,1].real\n",
    "err1 = abs((0.1 - lista_koef1)/0.1*100)\n",
    "print(\"Greška dobivena koristeći PDE-FIND za identifikaciju dinamike na podatcima sa šumom:\\n\")\n",
    "print(\"Srednja greška parametra uz član u_t:\", np.mean(err1), '%')\n",
    "print(\"Standardna devijacija srednje greške parametra uz član u_t:\", np.std(err1), '%')"
   ]
  },
  {
   "cell_type": "code",
   "execution_count": 13,
   "id": "e19be181",
   "metadata": {},
   "outputs": [
    {
     "name": "stdout",
     "output_type": "stream",
     "text": [
      "Greška dobivena koristeći PDE-FIND za identifikaciju dinamike na podatcima sa šumom:\n",
      "\n",
      "Srednja greška parametra uz član u^2u_t: 1.6193725038482731 %\n",
      "Standardna devijacija srednje greške parametra uz član u^2u_t: 1.1064509919597048 %\n"
     ]
    }
   ],
   "source": [
    "lista_koef2 = np.reshape(podatci, (run, len(descr)))[:,2].real\n",
    "err2 = abs((-1 - lista_koef2)/1*100)\n",
    "print(\"Greška dobivena koristeći PDE-FIND za identifikaciju dinamike na podatcima sa šumom:\\n\")\n",
    "print(\"Srednja greška parametra uz član u^2u_t:\", np.mean(err2), '%')\n",
    "print(\"Standardna devijacija srednje greške parametra uz član u^2u_t:\", np.std(err2), '%')"
   ]
  },
  {
   "cell_type": "code",
   "execution_count": 14,
   "id": "bced1c02",
   "metadata": {},
   "outputs": [
    {
     "name": "stdout",
     "output_type": "stream",
     "text": [
      "Greška dobivena koristeći PDE-FIND za identifikaciju dinamike na podatcima sa šumom:\n",
      "\n",
      "Srednja greška parametra uz član u: 11.301361004936442 %\n",
      "Standardna devijacija srednje greške parametra uz član u: 5.292914765975978 %\n"
     ]
    }
   ],
   "source": [
    "lista_koef3 = np.reshape(podatci, (run, len(descr)))[:,5].real\n",
    "err3 = abs((-0.1 - lista_koef3)/0.1*100)\n",
    "print(\"Greška dobivena koristeći PDE-FIND za identifikaciju dinamike na podatcima sa šumom:\\n\")\n",
    "print(\"Srednja greška parametra uz član u:\", np.mean(err3), '%')\n",
    "print(\"Standardna devijacija srednje greške parametra uz član u:\", np.std(err3), '%')"
   ]
  },
  {
   "attachments": {},
   "cell_type": "markdown",
   "id": "7e7a1cea",
   "metadata": {},
   "source": [
    "# Srednja jednadžba:\n",
    "Jednadžba dobivena tako da se uzme srednja vrijednost dobivenih koeficijenata u svim iteracijama."
   ]
  },
  {
   "cell_type": "code",
   "execution_count": 15,
   "id": "a397d830",
   "metadata": {},
   "outputs": [
    {
     "name": "stdout",
     "output_type": "stream",
     "text": [
      "Srednja PDJ dobivena pomoću STRidge:\n",
      "u_tt = (-0.016188 +0.000000i)\n",
      "    + (0.076330 +0.000000i)u_t\n",
      "    + (-0.983806 +0.000000i)u\n",
      "    + (0.006127 +0.000000i)u^2\n",
      "    + (-0.002214 +0.000000i)uu_t\n",
      "    + (-0.088699 +0.000000i)u^2u_t\n",
      "   \n"
     ]
    }
   ],
   "source": [
    "mean_podatci = np.mean(podatci, axis=0)\n",
    "print(\"Srednja PDJ dobivena pomoću STRidge:\")\n",
    "print_pde(mean_podatci, descr)"
   ]
  }
 ],
 "metadata": {
  "kernelspec": {
   "display_name": "base",
   "language": "python",
   "name": "python3"
  },
  "language_info": {
   "codemirror_mode": {
    "name": "ipython",
    "version": 3
   },
   "file_extension": ".py",
   "mimetype": "text/x-python",
   "name": "python",
   "nbconvert_exporter": "python",
   "pygments_lexer": "ipython3",
   "version": "3.9.12 (main, Apr  4 2022, 05:22:27) [MSC v.1916 64 bit (AMD64)]"
  },
  "vscode": {
   "interpreter": {
    "hash": "24fd04cf1b8dd920425e0015d5188aceeb51298c945c2fa020872a2219f8b4c9"
   }
  }
 },
 "nbformat": 4,
 "nbformat_minor": 5
}
