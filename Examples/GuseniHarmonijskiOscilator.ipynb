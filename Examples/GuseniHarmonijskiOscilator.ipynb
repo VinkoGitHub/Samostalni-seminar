{
 "cells": [
  {
   "cell_type": "markdown",
   "id": "387a4377",
   "metadata": {},
   "source": [
    "# PDE-FIND za gušeni klasični harmonijski oscilator\n",
    "\n",
    "Vinko Dragušica, 2022.\n",
    "\n",
    "Predstavljen je kod koji pomoću modula PDE-FIND iz danih podataka otkriva jednadžbu koja opisuje dinamiku gušenog klasičnog harmonijskog oscilatora za $\\zeta=0.2$.\n",
    "$$\n",
    "u_{tt} + 2\\zeta u_t + u = 0\n",
    "$$"
   ]
  },
  {
   "cell_type": "code",
   "execution_count": 1,
   "id": "8ca55ba3",
   "metadata": {},
   "outputs": [],
   "source": [
    "%matplotlib inline\n",
    "import numpy as np\n",
    "from mpl_toolkits.mplot3d import Axes3D\n",
    "import matplotlib.pyplot as plt\n",
    "from matplotlib import cm\n",
    "import sys; sys.path.append('../')\n",
    "from PDE_FIND_CM import *\n",
    "import itertools"
   ]
  },
  {
   "cell_type": "code",
   "execution_count": 2,
   "id": "740c31ea",
   "metadata": {},
   "outputs": [
    {
     "data": {
      "text/html": [
       "<div>\n",
       "<style scoped>\n",
       "    .dataframe tbody tr th:only-of-type {\n",
       "        vertical-align: middle;\n",
       "    }\n",
       "\n",
       "    .dataframe tbody tr th {\n",
       "        vertical-align: top;\n",
       "    }\n",
       "\n",
       "    .dataframe thead th {\n",
       "        text-align: right;\n",
       "    }\n",
       "</style>\n",
       "<table border=\"1\" class=\"dataframe\">\n",
       "  <thead>\n",
       "    <tr style=\"text-align: right;\">\n",
       "      <th></th>\n",
       "      <th>0</th>\n",
       "      <th>1</th>\n",
       "      <th>2</th>\n",
       "      <th>3</th>\n",
       "      <th>4</th>\n",
       "      <th>5</th>\n",
       "      <th>6</th>\n",
       "      <th>7</th>\n",
       "      <th>8</th>\n",
       "      <th>9</th>\n",
       "      <th>...</th>\n",
       "      <th>90</th>\n",
       "      <th>91</th>\n",
       "      <th>92</th>\n",
       "      <th>93</th>\n",
       "      <th>94</th>\n",
       "      <th>95</th>\n",
       "      <th>96</th>\n",
       "      <th>97</th>\n",
       "      <th>98</th>\n",
       "      <th>99</th>\n",
       "    </tr>\n",
       "  </thead>\n",
       "  <tbody>\n",
       "    <tr>\n",
       "      <th>0</th>\n",
       "      <td>0.0</td>\n",
       "      <td>0.944308</td>\n",
       "      <td>1.778412</td>\n",
       "      <td>2.478276</td>\n",
       "      <td>3.026976</td>\n",
       "      <td>3.414805</td>\n",
       "      <td>3.639099</td>\n",
       "      <td>3.703789</td>\n",
       "      <td>3.618736</td>\n",
       "      <td>3.398889</td>\n",
       "      <td>...</td>\n",
       "      <td>-0.113284</td>\n",
       "      <td>-0.093973</td>\n",
       "      <td>-0.07249</td>\n",
       "      <td>-0.049842</td>\n",
       "      <td>-0.027004</td>\n",
       "      <td>-0.004884</td>\n",
       "      <td>0.015709</td>\n",
       "      <td>0.03409</td>\n",
       "      <td>0.049712</td>\n",
       "      <td>0.062179</td>\n",
       "    </tr>\n",
       "  </tbody>\n",
       "</table>\n",
       "<p>1 rows × 100 columns</p>\n",
       "</div>"
      ],
      "text/plain": [
       "    0         1         2         3         4         5         6         7   \\\n",
       "0  0.0  0.944308  1.778412  2.478276  3.026976  3.414805  3.639099  3.703789   \n",
       "\n",
       "         8         9   ...        90        91       92        93        94  \\\n",
       "0  3.618736  3.398889  ... -0.113284 -0.093973 -0.07249 -0.049842 -0.027004   \n",
       "\n",
       "         95        96       97        98        99  \n",
       "0 -0.004884  0.015709  0.03409  0.049712  0.062179  \n",
       "\n",
       "[1 rows x 100 columns]"
      ]
     },
     "execution_count": 2,
     "metadata": {},
     "output_type": "execute_result"
    }
   ],
   "source": [
    "import pandas\n",
    "df = pandas.read_csv('../Datasets/GuseniOscPodatci.csv', skiprows=1, header=None)\n",
    "df.head()"
   ]
  },
  {
   "cell_type": "code",
   "execution_count": 3,
   "id": "73821243",
   "metadata": {},
   "outputs": [],
   "source": [
    "u = df.to_numpy()\n",
    "x = [0]\n",
    "t = np.linspace(0,20,100)\n",
    "dt = t[1]-t[0]\n",
    "#dx = x[1]-x[0]"
   ]
  },
  {
   "cell_type": "code",
   "execution_count": 4,
   "id": "d1846eea",
   "metadata": {},
   "outputs": [
    {
     "data": {
      "text/plain": [
       "Text(0, 0.5, 'u(t)')"
      ]
     },
     "execution_count": 4,
     "metadata": {},
     "output_type": "execute_result"
    },
    {
     "data": {
      "image/png": "[encoded data removed]",
      "text/plain": [
       "<Figure size 576x432 with 1 Axes>"
      ]
     },
     "metadata": {
      "needs_background": "light"
     },
     "output_type": "display_data"
    }
   ],
   "source": [
    "fig1 = plt.figure(figsize=(8,6))\n",
    "plt.plot(t,u[0,:],color='firebrick')\n",
    "plt.title('Harmonijski oscilator', fontsize = 20)\n",
    "plt.xlabel('t', fontsize = 16)\n",
    "plt.ylabel('u(t)', fontsize = 16)"
   ]
  },
  {
   "cell_type": "markdown",
   "id": "01268160",
   "metadata": {},
   "source": [
    "## Konstruiramo $\\Theta (U)$ i računamo $U_t$:\n",
    "\n",
    "Konstruiramo funkcije koje će se nalaziti u $\\Theta$. Također specificiramo njihove opise i na kraju pomoću build_Theta konstruiramo $\\Theta$ koji ćemo koristiti kasnije. <br>\n",
    "time_diff i space_diff izračunati su pomoću metode konačnih razlika (funkcija FiniteDiff()).\n",
    "\n",
    "Ispisana je lista funkcija kandidata za PDJ. Svaka od ispisanih funkcija ekvivalentna je stupcu u $\\Theta (U)$."
   ]
  },
  {
   "cell_type": "code",
   "execution_count": 5,
   "id": "f5ba1f95",
   "metadata": {},
   "outputs": [
    {
     "data": {
      "text/plain": [
       "['',\n",
       " 'u_t',\n",
       " 'e^t',\n",
       " 'cos(t)',\n",
       " 'sin(t)',\n",
       " 'u',\n",
       " 'e^tu_t',\n",
       " 'cos(t)u_t',\n",
       " 'sin(t)u_t',\n",
       " 'uu_t']"
      ]
     },
     "execution_count": 5,
     "metadata": {},
     "output_type": "execute_result"
    }
   ],
   "source": [
    "m = len(x)\n",
    "n = len(t)\n",
    "\n",
    "ut = np.zeros((m,n), dtype=np.complex64)\n",
    "utt = np.zeros((m,n), dtype=np.complex64)\n",
    "sin_t = np.zeros((m,n), dtype=np.complex64)\n",
    "cos_t = np.zeros((m,n), dtype=np.complex64)\n",
    "exp_t = np.zeros((m,n), dtype=np.complex64)\n",
    "\n",
    "for i in range(m):\n",
    "    ut[i,:] = FiniteDiff(u[i,:], dt, 1)\n",
    "    utt[i,:] = FiniteDiff(u[i,:], dt, 2) # koristi se kasnije kod funkcije TrainSTRidge\n",
    "    sin_t[i,:] = np.sin(t)\n",
    "    cos_t[i,:] = np.cos(t)\n",
    "    exp_t[i,:] = np.e**t\n",
    "\n",
    "ut = np.reshape(ut, (n*m,1), order='F')\n",
    "utt = np.reshape(utt, (n*m,1), order='F')\n",
    "\n",
    "X_ders = np.hstack([np.ones((n*m,1)),ut])\n",
    "X_data = np.hstack([np.reshape(u, (n*m,1), order='F'),\n",
    "                    np.reshape(sin_t, (n*m,1), order='F'),\n",
    "                    np.reshape(cos_t, (n*m,1), order='F'),\n",
    "                    np.reshape(exp_t, (n*m,1), order='F')])\n",
    "derivatives_description = ['','u_t']\n",
    "\n",
    "X, descr = build_Theta(X_data, X_ders, derivatives_description, P=1, data_description = ['u','sin(t)','cos(t)','e^t'])\n",
    "descr"
   ]
  },
  {
   "cell_type": "markdown",
   "id": "010cd2fa",
   "metadata": {},
   "source": [
    "## Računamo $\\xi$:\n",
    "\n",
    "TrainSTRidge dijeli podatke na dio za trening (80% ukupnih podataka) i dio za validaciju (20% ukupnih podataka). Algoritam traži optimalnu vrijednost za varijablu tol (tolerancija ispod koje zanemarujemo varijablu) i odabire toleranciju provjerom na validacijskom skupu, uključujući i $\\ell^0$ penalizaciju za $\\xi$ u funkciji gubitka."
   ]
  },
  {
   "cell_type": "code",
   "execution_count": 6,
   "id": "1164dd9a",
   "metadata": {},
   "outputs": [
    {
     "name": "stdout",
     "output_type": "stream",
     "text": [
      "PDJ dobivena pomoću STRidge:\n",
      "u_tt = (-0.404290 +0.000000i)u_t\n",
      "    + (-0.995693 +0.000000i)u\n",
      "   \n"
     ]
    }
   ],
   "source": [
    "# Solve with STRidge\n",
    "w = TrainSTRidge(X,utt,10**-5,0.1)\n",
    "print(\"PDJ dobivena pomoću STRidge:\")\n",
    "print_pde(w, descr)"
   ]
  },
  {
   "cell_type": "code",
   "execution_count": 7,
   "id": "fcc1f4a3",
   "metadata": {},
   "outputs": [
    {
     "name": "stdout",
     "output_type": "stream",
     "text": [
      "Greška dobivena koristeći PDE-FIND za identifikaciju dinamike na podatcima:\n",
      "\n",
      "Srednja greška parametara: 0.7515999999999925 %\n",
      "Standardna devijacija srednje greške parametara: 0.3208999999999975 %\n"
     ]
    }
   ],
   "source": [
    "err = abs(np.array([(0.4 -  0.404290)/0.4*100, (1 -  0.995693)*100]))\n",
    "print(\"Greška dobivena koristeći PDE-FIND za identifikaciju dinamike na podatcima:\\n\")\n",
    "print(\"Srednja greška parametara:\", np.mean(err), '%')\n",
    "print(\"Standardna devijacija srednje greške parametara:\", np.std(err), '%')"
   ]
  }
 ],
 "metadata": {
  "kernelspec": {
   "display_name": "Python 3 (ipykernel)",
   "language": "python",
   "name": "python3"
  },
  "language_info": {
   "codemirror_mode": {
    "name": "ipython",
    "version": 3
   },
   "file_extension": ".py",
   "mimetype": "text/x-python",
   "name": "python",
   "nbconvert_exporter": "python",
   "pygments_lexer": "ipython3",
   "version": "3.9.12"
  }
 },
 "nbformat": 4,
 "nbformat_minor": 5
}
